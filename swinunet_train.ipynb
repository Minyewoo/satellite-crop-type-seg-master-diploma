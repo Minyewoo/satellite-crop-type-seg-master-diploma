{
  "cells": [
    {
      "attachments": {},
      "cell_type": "markdown",
      "metadata": {
        "id": "bySoMjZDz38Y"
      },
      "source": [
        "# Installing dependencies"
      ]
    },
    {
      "cell_type": "code",
      "execution_count": null,
      "metadata": {
        "colab": {
          "base_uri": "https://localhost:8080/",
          "height": 1000
        },
        "id": "0We1Nd1Kfli-",
        "outputId": "91f24acb-6a91-465a-c452-4c9ee1739f25"
      },
      "outputs": [
        {
          "name": "stdout",
          "output_type": "stream",
          "text": [
            "Looking in indexes: https://pypi.org/simple, https://us-python.pkg.dev/colab-wheels/public/simple/\n",
            "Collecting geopandas\n",
            "  Downloading geopandas-0.13.0-py3-none-any.whl (1.1 MB)\n",
            "\u001b[2K     \u001b[90m━━━━━━━━━━━━━━━━━━━━━━━━━━━━━━━━━━━━━━━━\u001b[0m \u001b[32m1.1/1.1 MB\u001b[0m \u001b[31m56.1 MB/s\u001b[0m eta \u001b[36m0:00:00\u001b[0m\n",
            "\u001b[?25hCollecting fiona>=1.8.19 (from geopandas)\n",
            "  Downloading Fiona-1.9.4.post1-cp310-cp310-manylinux_2_17_x86_64.manylinux2014_x86_64.whl (16.4 MB)\n",
            "\u001b[2K     \u001b[90m━━━━━━━━━━━━━━━━━━━━━━━━━━━━━━━━━━━━━━━━\u001b[0m \u001b[32m16.4/16.4 MB\u001b[0m \u001b[31m88.0 MB/s\u001b[0m eta \u001b[36m0:00:00\u001b[0m\n",
            "\u001b[?25hRequirement already satisfied: packaging in /usr/local/lib/python3.10/dist-packages (from geopandas) (23.1)\n",
            "Requirement already satisfied: pandas>=1.1.0 in /usr/local/lib/python3.10/dist-packages (from geopandas) (1.5.3)\n",
            "Collecting pyproj>=3.0.1 (from geopandas)\n",
            "  Downloading pyproj-3.5.0-cp310-cp310-manylinux_2_17_x86_64.manylinux2014_x86_64.whl (7.7 MB)\n",
            "\u001b[2K     \u001b[90m━━━━━━━━━━━━━━━━━━━━━━━━━━━━━━━━━━━━━━━━\u001b[0m \u001b[32m7.7/7.7 MB\u001b[0m \u001b[31m106.4 MB/s\u001b[0m eta \u001b[36m0:00:00\u001b[0m\n",
            "\u001b[?25hRequirement already satisfied: shapely>=1.7.1 in /usr/local/lib/python3.10/dist-packages (from geopandas) (2.0.1)\n",
            "Requirement already satisfied: attrs>=19.2.0 in /usr/local/lib/python3.10/dist-packages (from fiona>=1.8.19->geopandas) (23.1.0)\n",
            "Requirement already satisfied: certifi in /usr/local/lib/python3.10/dist-packages (from fiona>=1.8.19->geopandas) (2022.12.7)\n",
            "Requirement already satisfied: click~=8.0 in /usr/local/lib/python3.10/dist-packages (from fiona>=1.8.19->geopandas) (8.1.3)\n",
            "Collecting click-plugins>=1.0 (from fiona>=1.8.19->geopandas)\n",
            "  Downloading click_plugins-1.1.1-py2.py3-none-any.whl (7.5 kB)\n",
            "Collecting cligj>=0.5 (from fiona>=1.8.19->geopandas)\n",
            "  Downloading cligj-0.7.2-py3-none-any.whl (7.1 kB)\n",
            "Requirement already satisfied: six in /usr/local/lib/python3.10/dist-packages (from fiona>=1.8.19->geopandas) (1.16.0)\n",
            "Requirement already satisfied: python-dateutil>=2.8.1 in /usr/local/lib/python3.10/dist-packages (from pandas>=1.1.0->geopandas) (2.8.2)\n",
            "Requirement already satisfied: pytz>=2020.1 in /usr/local/lib/python3.10/dist-packages (from pandas>=1.1.0->geopandas) (2022.7.1)\n",
            "Requirement already satisfied: numpy>=1.21.0 in /usr/local/lib/python3.10/dist-packages (from pandas>=1.1.0->geopandas) (1.22.4)\n",
            "Installing collected packages: pyproj, cligj, click-plugins, fiona, geopandas\n",
            "Successfully installed click-plugins-1.1.1 cligj-0.7.2 fiona-1.9.4.post1 geopandas-0.13.0 pyproj-3.5.0\n",
            "Looking in indexes: https://pypi.org/simple, https://us-python.pkg.dev/colab-wheels/public/simple/\n",
            "Collecting sentinelhub\n",
            "  Downloading sentinelhub-3.9.1-py3-none-any.whl (244 kB)\n",
            "\u001b[2K     \u001b[90m━━━━━━━━━━━━━━━━━━━━━━━━━━━━━━━━━━━━━━\u001b[0m \u001b[32m244.4/244.4 kB\u001b[0m \u001b[31m17.4 MB/s\u001b[0m eta \u001b[36m0:00:00\u001b[0m\n",
            "\u001b[?25hCollecting aenum>=2.1.4 (from sentinelhub)\n",
            "  Downloading aenum-3.1.12-py3-none-any.whl (131 kB)\n",
            "\u001b[2K     \u001b[90m━━━━━━━━━━━━━━━━━━━━━━━━━━━━━━━━━━━━━━\u001b[0m \u001b[32m131.8/131.8 kB\u001b[0m \u001b[31m17.8 MB/s\u001b[0m eta \u001b[36m0:00:00\u001b[0m\n",
            "\u001b[?25hRequirement already satisfied: click in /usr/local/lib/python3.10/dist-packages (from sentinelhub) (8.1.3)\n",
            "Collecting dataclasses-json (from sentinelhub)\n",
            "  Downloading dataclasses_json-0.5.7-py3-none-any.whl (25 kB)\n",
            "Requirement already satisfied: numpy in /usr/local/lib/python3.10/dist-packages (from sentinelhub) (1.22.4)\n",
            "Requirement already satisfied: oauthlib in /usr/local/lib/python3.10/dist-packages (from sentinelhub) (3.2.2)\n",
            "Collecting pillow>=9.2.0 (from sentinelhub)\n",
            "  Downloading Pillow-9.5.0-cp310-cp310-manylinux_2_28_x86_64.whl (3.4 MB)\n",
            "\u001b[2K     \u001b[90m━━━━━━━━━━━━━━━━━━━━━━━━━━━━━━━━━━━━━━━━\u001b[0m \u001b[32m3.4/3.4 MB\u001b[0m \u001b[31m30.3 MB/s\u001b[0m eta \u001b[36m0:00:00\u001b[0m\n",
            "\u001b[?25hRequirement already satisfied: pyproj>=2.2.0 in /usr/local/lib/python3.10/dist-packages (from sentinelhub) (3.5.0)\n",
            "Requirement already satisfied: python-dateutil in /usr/local/lib/python3.10/dist-packages (from sentinelhub) (2.8.2)\n",
            "Requirement already satisfied: requests-oauthlib>=1.0.0 in /usr/local/lib/python3.10/dist-packages (from sentinelhub) (1.3.1)\n",
            "Requirement already satisfied: requests>=2.27.0 in /usr/local/lib/python3.10/dist-packages (from sentinelhub) (2.27.1)\n",
            "Requirement already satisfied: shapely in /usr/local/lib/python3.10/dist-packages (from sentinelhub) (2.0.1)\n",
            "Requirement already satisfied: tifffile>=2020.9.30 in /usr/local/lib/python3.10/dist-packages (from sentinelhub) (2023.4.12)\n",
            "Requirement already satisfied: tomli in /usr/local/lib/python3.10/dist-packages (from sentinelhub) (2.0.1)\n",
            "Collecting tomli-w (from sentinelhub)\n",
            "  Downloading tomli_w-1.0.0-py3-none-any.whl (6.0 kB)\n",
            "Requirement already satisfied: tqdm in /usr/local/lib/python3.10/dist-packages (from sentinelhub) (4.65.0)\n",
            "Requirement already satisfied: typing-extensions in /usr/local/lib/python3.10/dist-packages (from sentinelhub) (4.5.0)\n",
            "Collecting utm (from sentinelhub)\n",
            "  Downloading utm-0.7.0.tar.gz (8.7 kB)\n",
            "  Preparing metadata (setup.py) ... \u001b[?25l\u001b[?25hdone\n",
            "Requirement already satisfied: certifi in /usr/local/lib/python3.10/dist-packages (from pyproj>=2.2.0->sentinelhub) (2022.12.7)\n",
            "Requirement already satisfied: urllib3<1.27,>=1.21.1 in /usr/local/lib/python3.10/dist-packages (from requests>=2.27.0->sentinelhub) (1.26.15)\n",
            "Requirement already satisfied: charset-normalizer~=2.0.0 in /usr/local/lib/python3.10/dist-packages (from requests>=2.27.0->sentinelhub) (2.0.12)\n",
            "Requirement already satisfied: idna<4,>=2.5 in /usr/local/lib/python3.10/dist-packages (from requests>=2.27.0->sentinelhub) (3.4)\n",
            "Collecting marshmallow<4.0.0,>=3.3.0 (from dataclasses-json->sentinelhub)\n",
            "  Downloading marshmallow-3.19.0-py3-none-any.whl (49 kB)\n",
            "\u001b[2K     \u001b[90m━━━━━━━━━━━━━━━━━━━━━━━━━━━━━━━━━━━━━━━━\u001b[0m \u001b[32m49.1/49.1 kB\u001b[0m \u001b[31m5.8 MB/s\u001b[0m eta \u001b[36m0:00:00\u001b[0m\n",
            "\u001b[?25hCollecting marshmallow-enum<2.0.0,>=1.5.1 (from dataclasses-json->sentinelhub)\n",
            "  Downloading marshmallow_enum-1.5.1-py2.py3-none-any.whl (4.2 kB)\n",
            "Collecting typing-inspect>=0.4.0 (from dataclasses-json->sentinelhub)\n",
            "  Downloading typing_inspect-0.9.0-py3-none-any.whl (8.8 kB)\n",
            "Requirement already satisfied: six>=1.5 in /usr/local/lib/python3.10/dist-packages (from python-dateutil->sentinelhub) (1.16.0)\n",
            "Requirement already satisfied: packaging>=17.0 in /usr/local/lib/python3.10/dist-packages (from marshmallow<4.0.0,>=3.3.0->dataclasses-json->sentinelhub) (23.1)\n",
            "Collecting mypy-extensions>=0.3.0 (from typing-inspect>=0.4.0->dataclasses-json->sentinelhub)\n",
            "  Downloading mypy_extensions-1.0.0-py3-none-any.whl (4.7 kB)\n",
            "Building wheels for collected packages: utm\n",
            "  Building wheel for utm (setup.py) ... \u001b[?25l\u001b[?25hdone\n",
            "  Created wheel for utm: filename=utm-0.7.0-py3-none-any.whl size=6085 sha256=fa181af895b38499d334cb3dc120fed4e148b31f30aef9aeabf3b5e177d5019d\n",
            "  Stored in directory: /root/.cache/pip/wheels/2f/a1/c8/543df0e8f5e824c3e92a432e32deb9cd89ae686095ee8cfcbe\n",
            "Successfully built utm\n",
            "Installing collected packages: utm, aenum, tomli-w, pillow, mypy-extensions, marshmallow, typing-inspect, marshmallow-enum, dataclasses-json, sentinelhub\n",
            "  Attempting uninstall: pillow\n",
            "    Found existing installation: Pillow 8.4.0\n",
            "    Uninstalling Pillow-8.4.0:\n",
            "      Successfully uninstalled Pillow-8.4.0\n",
            "Successfully installed aenum-3.1.12 dataclasses-json-0.5.7 marshmallow-3.19.0 marshmallow-enum-1.5.1 mypy-extensions-1.0.0 pillow-9.5.0 sentinelhub-3.9.1 tomli-w-1.0.0 typing-inspect-0.9.0 utm-0.7.0\n"
          ]
        },
        {
          "data": {
            "application/vnd.colab-display-data+json": {
              "pip_warning": {
                "packages": [
                  "PIL"
                ]
              }
            }
          },
          "metadata": {},
          "output_type": "display_data"
        },
        {
          "name": "stdout",
          "output_type": "stream",
          "text": [
            "Looking in indexes: https://pypi.org/simple, https://us-python.pkg.dev/colab-wheels/public/simple/\n",
            "Collecting rasterio\n",
            "  Downloading rasterio-1.3.7-cp310-cp310-manylinux_2_17_x86_64.manylinux2014_x86_64.whl (21.3 MB)\n",
            "\u001b[2K     \u001b[90m━━━━━━━━━━━━━━━━━━━━━━━━━━━━━━━━━━━━━━━━\u001b[0m \u001b[32m21.3/21.3 MB\u001b[0m \u001b[31m71.5 MB/s\u001b[0m eta \u001b[36m0:00:00\u001b[0m\n",
            "\u001b[?25hCollecting affine (from rasterio)\n",
            "  Downloading affine-2.4.0-py3-none-any.whl (15 kB)\n",
            "Requirement already satisfied: attrs in /usr/local/lib/python3.10/dist-packages (from rasterio) (23.1.0)\n",
            "Requirement already satisfied: certifi in /usr/local/lib/python3.10/dist-packages (from rasterio) (2022.12.7)\n",
            "Requirement already satisfied: click>=4.0 in /usr/local/lib/python3.10/dist-packages (from rasterio) (8.1.3)\n",
            "Requirement already satisfied: cligj>=0.5 in /usr/local/lib/python3.10/dist-packages (from rasterio) (0.7.2)\n",
            "Requirement already satisfied: numpy>=1.18 in /usr/local/lib/python3.10/dist-packages (from rasterio) (1.22.4)\n",
            "Collecting snuggs>=1.4.1 (from rasterio)\n",
            "  Downloading snuggs-1.4.7-py3-none-any.whl (5.4 kB)\n",
            "Requirement already satisfied: click-plugins in /usr/local/lib/python3.10/dist-packages (from rasterio) (1.1.1)\n",
            "Requirement already satisfied: setuptools in /usr/local/lib/python3.10/dist-packages (from rasterio) (67.7.2)\n",
            "Requirement already satisfied: pyparsing>=2.1.6 in /usr/local/lib/python3.10/dist-packages (from snuggs>=1.4.1->rasterio) (3.0.9)\n",
            "Installing collected packages: snuggs, affine, rasterio\n",
            "Successfully installed affine-2.4.0 rasterio-1.3.7 snuggs-1.4.7\n"
          ]
        }
      ],
      "source": [
        "!pip install geopandas\n",
        "!pip install sentinelhub\n",
        "!pip install rasterio"
      ]
    },
    {
      "attachments": {},
      "cell_type": "markdown",
      "metadata": {
        "id": "jkv-XRhwz-0w"
      },
      "source": [
        "# Specifying file tree"
      ]
    },
    {
      "cell_type": "code",
      "execution_count": null,
      "metadata": {
        "colab": {
          "base_uri": "https://localhost:8080/"
        },
        "id": "S3OSxhKTlfEJ",
        "outputId": "51738fce-fbfb-4088-940c-6d4f17d00c61"
      },
      "outputs": [
        {
          "name": "stdout",
          "output_type": "stream",
          "text": [
            "Mounted at /content/drive\n"
          ]
        }
      ],
      "source": [
        "from google.colab import drive\n",
        "drive.mount('/content/drive')"
      ]
    },
    {
      "cell_type": "code",
      "execution_count": null,
      "metadata": {
        "id": "Qvk4TmcaDzdl"
      },
      "outputs": [],
      "source": [
        "!cp /content/drive/MyDrive/diploma/sentinel_2_dataset.h5 ./"
      ]
    },
    {
      "cell_type": "code",
      "execution_count": null,
      "metadata": {
        "id": "ST6kmDnCGuiw"
      },
      "outputs": [],
      "source": [
        "!cp /content/drive/MyDrive/diploma/germ_crop_mask.npy ./"
      ]
    },
    {
      "cell_type": "code",
      "execution_count": null,
      "metadata": {
        "id": "rFVAE5VqG0lf"
      },
      "outputs": [],
      "source": [
        "!cp /content/drive/MyDrive/diploma/afro_crop_mask.npy ./"
      ]
    },
    {
      "cell_type": "code",
      "execution_count": null,
      "metadata": {
        "id": "RWCdmDKaXL7W"
      },
      "outputs": [],
      "source": [
        "!cp /content/drive/MyDrive/diploma/germany_sentinel2_data/dlr_fusion_competition_germany_train_source_sentinel_2/dlr_fusion_competition_germany_train_source_sentinel_2_33N_18E_242N_2018/clp.npy ./"
      ]
    },
    {
      "cell_type": "code",
      "execution_count": null,
      "metadata": {
        "id": "UCB4OisRaXOA"
      },
      "outputs": [],
      "source": [
        "!cp /content/drive/MyDrive/diploma/germany_sentinel2_data/dlr_fusion_competition_germany_train_source_sentinel_2/dlr_fusion_competition_germany_train_source_sentinel_2_33N_18E_242N_2018/bbox.pkl ./"
      ]
    },
    {
      "cell_type": "code",
      "execution_count": null,
      "metadata": {
        "id": "ElGWZ6vEXsOw"
      },
      "outputs": [],
      "source": [
        "!cp /content/drive/MyDrive/diploma/germany_sentinel2_data/dlr_fusion_competition_germany_train_labels/dlr_fusion_competition_germany_train_labels_33N_18E_242N/labels.geojson ./"
      ]
    },
    {
      "cell_type": "code",
      "execution_count": null,
      "metadata": {
        "id": "GxfPcCHbzbky"
      },
      "outputs": [],
      "source": [
        "bands_path = 'sentinel_2_dataset.h5'\n",
        "germ_mask_path = 'germ_crop_mask.npy'\n",
        "afro_mask_path = 'afro_crop_mask.npy'\n",
        "cloud_prob_path = 'clp.npy'\n",
        "labels_path = 'labels.geojson'"
      ]
    },
    {
      "attachments": {},
      "cell_type": "markdown",
      "metadata": {
        "id": "S7JIu0eky7hg"
      },
      "source": [
        "# Defining Keras Data Sequence"
      ]
    },
    {
      "cell_type": "code",
      "execution_count": null,
      "metadata": {
        "colab": {
          "base_uri": "https://localhost:8080/"
        },
        "id": "duZBSfEdjb-0",
        "outputId": "be23368d-7562-48b2-8e92-1f4b2949a3ab"
      },
      "outputs": [
        {
          "name": "stdout",
          "output_type": "stream",
          "text": [
            "(220, 2400, 2400, 12)\n",
            "ignoring 30/2534 fields with area < 1000m2\n"
          ]
        }
      ],
      "source": [
        "from tensorflow import keras\n",
        "import math\n",
        "from random import shuffle, seed\n",
        "import pickle\n",
        "import geopandas as gpd\n",
        "import numpy as np\n",
        "import rasterio as rio\n",
        "from rasterio import features\n",
        "import h5py\n",
        "import os\n",
        "\n",
        "CLASSES = [\"Wheat\", \"Rye\", \"Barley\", \"Oats\", \"Corn\", \"Oil Seeds\", \"Root Crops\", \"Meadows\", \"Forage Crops\", \"Canola\", \"Lucerne\", \"Small grain grazing\"]\n",
        "CROP_IDS = [1, 2, 3, 4, 5, 6, 7, 8, 9, 10, 11, 12]\n",
        "min_area=1000\n",
        "\n",
        "hf = h5py.File(bands_path,'r')\n",
        "bands = hf['sentinel2_data']\n",
        "\n",
        "germ_mask = np.load(germ_mask_path)\n",
        "afro_mask = np.load(afro_mask_path)\n",
        "\n",
        "temporal_length, width, height, bands_count = bands.shape\n",
        "\n",
        "print(bands.shape)\n",
        "\n",
        "\n",
        "with open(os.path.join(\"bbox.pkl\"), 'rb') as f:\n",
        "    bbox = pickle.load(f)\n",
        "    crs = str(bbox.crs)\n",
        "    minx, miny, maxx, maxy = bbox.min_x, bbox.min_y, bbox.max_x, bbox.max_y\n",
        "\n",
        "labels = gpd.read_file(labels_path)\n",
        "labels = labels.to_crs(crs)\n",
        "\n",
        "mask = labels.geometry.area > min_area\n",
        "print(f\"ignoring {(~mask).sum()}/{len(mask)} fields with area < {min_area}m2\")\n",
        "labels = labels.loc[mask]\n",
        "\n",
        "clp = np.load(\"clp.npy\", mmap_mode='r')\n",
        "\n",
        "transform = rio.transform.from_bounds(minx, miny, maxx, maxy, width, height)\n",
        "\n",
        "crop_mask = features.rasterize(\n",
        "    zip(labels.geometry, labels.crop_id), all_touched=True,\n",
        "    transform=transform, out_shape=(width, height)\n",
        ").astype('uint8')"
      ]
    },
    {
      "cell_type": "code",
      "execution_count": null,
      "metadata": {
        "id": "U7R7mOGmNJVe"
      },
      "outputs": [],
      "source": [
        "temporal_length = 144"
      ]
    },
    {
      "cell_type": "code",
      "execution_count": null,
      "metadata": {
        "id": "-r4L_VlxgT3z"
      },
      "outputs": [],
      "source": [
        "import tensorflow as tf\n",
        "\n",
        "class Sentinel2Data(keras.utils.Sequence):\n",
        "    \"\"\"Helper to iterate over the data (as Numpy arrays).\"\"\"\n",
        "\n",
        "    def __init__(self, img_size, batch_size, bands, germ_mask, afro_mask, indexes, germ_temporal_ending=144, required_bands=[1, 4, 5]):\n",
        "        self.image_size = img_size\n",
        "        self.batch_size = batch_size\n",
        "        self.bands = bands\n",
        "        self.germ_mask = germ_mask\n",
        "        self.afro_mask = afro_mask\n",
        "        self.germ_temporal_ending = germ_temporal_ending\n",
        "        self.required_bands = required_bands\n",
        "        self.indexes = indexes\n",
        "    \n",
        "    def on_epoch_end(self):\n",
        "        shuffle(self.indexes)\n",
        "\n",
        "    def __len__(self):\n",
        "        return len(self.indexes) // self.batch_size\n",
        "\n",
        "    def __getitem__(self, idx):\n",
        "        \"\"\"Returns tuple (input, target) correspond to batch #idx.\"\"\"\n",
        "        idx_start = idx * self.batch_size\n",
        "        idx_end = idx_start + self.batch_size\n",
        "        if idx_end > len(self)*self.batch_size:\n",
        "          idx_end = len(self)*self.batch_size\n",
        "          idx_start = idx_end-self.batch_size\n",
        "\n",
        "        batch_idxs = self.indexes[idx_start:idx_end]\n",
        "\n",
        "        x = np.zeros(shape=(len(batch_idxs), self.image_size[0], self.image_size[1], len(self.required_bands)), dtype='float32')\n",
        "        y = np.zeros(shape=(len(batch_idxs), self.image_size[0], self.image_size[1]), dtype='uint8')\n",
        "\n",
        "        for i in range(len(batch_idxs)):\n",
        "            temporal_i, row_bounds, col_bounds = batch_idxs[i]\n",
        "            for j in range(len(self.required_bands)):\n",
        "                band_j = self.required_bands[j]\n",
        "                x[i, ..., j] = self.bands[temporal_i, row_bounds[0]:row_bounds[1], col_bounds[0] : col_bounds[1], band_j] / 21412.0\n",
        "            y[i] = self.germ_mask[row_bounds[0]:row_bounds[1], col_bounds[0] : col_bounds[1]] if temporal_i < self.germ_temporal_ending else self.afro_mask[row_bounds[0]:row_bounds[1], col_bounds[0] : col_bounds[1]]\n",
        "\n",
        "        return x, tf.one_hot(y, len(CLASSES)+1, axis=-1)"
      ]
    },
    {
      "cell_type": "code",
      "execution_count": null,
      "metadata": {
        "id": "4aFoy5Pa2pM6"
      },
      "outputs": [],
      "source": [
        "sample_shape=(128,128)\n",
        "\n",
        "samples_in_row = math.ceil(width / sample_shape[0])\n",
        "samples_in_col = math.ceil(height / sample_shape[1])\n",
        "\n",
        "indexes = []\n",
        "for temporal_index in range(temporal_length):\n",
        "    for y_i in range(samples_in_col):\n",
        "        col_start = y_i * sample_shape[1]\n",
        "        col_end = col_start + sample_shape[1]\n",
        "\n",
        "        if col_end > height:\n",
        "            col_start = width - sample_shape[1]\n",
        "            col_end = height\n",
        "\n",
        "        for x_i in range(samples_in_row):\n",
        "            row_start = x_i * sample_shape[0]\n",
        "            row_end = row_start + sample_shape[0]\n",
        "\n",
        "            if row_end > width:\n",
        "                row_start = width - sample_shape[0]\n",
        "                row_end = width\n",
        "\n",
        "            mean_clp = np.mean(clp[temporal_index, row_start:row_end, col_start : col_end, 0] / 255.)\n",
        "            if mean_clp < 0.4:\n",
        "                indexes.append((temporal_index, (row_start, row_end), (col_start, col_end)))\n",
        "\n",
        "seed(2023)\n",
        "shuffle(indexes)"
      ]
    },
    {
      "cell_type": "code",
      "execution_count": null,
      "metadata": {
        "id": "oLBq3lFvrDGf"
      },
      "outputs": [],
      "source": [
        "train_batch_size = 16\n",
        "val_batch_size = train_batch_size"
      ]
    },
    {
      "cell_type": "code",
      "execution_count": null,
      "metadata": {
        "colab": {
          "base_uri": "https://localhost:8080/"
        },
        "id": "LmfkI-QWnv7v",
        "outputId": "4302e0af-c95b-450f-8e55-766385d86c68"
      },
      "outputs": [
        {
          "name": "stdout",
          "output_type": "stream",
          "text": [
            "852\n",
            "365\n"
          ]
        }
      ],
      "source": [
        "validation_split=0.7\n",
        "split_index = math.ceil(len(indexes) * validation_split)\n",
        "train_seq = Sentinel2Data(\n",
        "    img_size=sample_shape, \n",
        "    batch_size=train_batch_size, \n",
        "    bands=bands, \n",
        "    germ_mask=crop_mask,\n",
        "    afro_mask=afro_mask,\n",
        "    indexes=indexes[:split_index],\n",
        ")\n",
        "val_seq = Sentinel2Data(\n",
        "    img_size=sample_shape,\n",
        "    batch_size=val_batch_size, \n",
        "    bands=bands, \n",
        "    germ_mask=crop_mask,\n",
        "    afro_mask=afro_mask,\n",
        "    indexes=indexes[split_index:],\n",
        ")\n",
        "\n",
        "print(len(train_seq))\n",
        "print(len(val_seq))"
      ]
    },
    {
      "cell_type": "code",
      "execution_count": null,
      "metadata": {
        "colab": {
          "base_uri": "https://localhost:8080/",
          "height": 552
        },
        "id": "Aqvtd6vujZFx",
        "outputId": "b0a248bc-505b-477b-e1de-70c22bbf52b4"
      },
      "outputs": [
        {
          "name": "stdout",
          "output_type": "stream",
          "text": [
            "(30, (2176, 2304), (256, 384))\n",
            "852\n",
            "(128, 128, 3)\n",
            "(128, 128, 13)\n"
          ]
        },
        {
          "data": {
            "image/png": "[encoded data removed]",
            "text/plain": [
              "<Figure size 1200x1200 with 2 Axes>"
            ]
          },
          "metadata": {},
          "output_type": "display_data"
        }
      ],
      "source": [
        "import matplotlib.pyplot as plt\n",
        "print(indexes[0])\n",
        "batch_sample = train_seq[0][0]\n",
        "\n",
        "smp_idx = 15\n",
        "img_sample = batch_sample[smp_idx]\n",
        "mask_sample = train_seq[0][1][smp_idx]\n",
        "\n",
        "print(len(train_seq))\n",
        "print(img_sample.shape)\n",
        "print(mask_sample.shape)\n",
        "\n",
        "\n",
        "figure, axarr = plt.subplots(1, 2)\n",
        "figure.set_size_inches((12,12))\n",
        "\n",
        "axarr[0].imshow(img_sample[..., 0])\n",
        "axarr[1].imshow(np.argmax(mask_sample,axis=-1))\n",
        "\n",
        "plt.show()"
      ]
    },
    {
      "attachments": {},
      "cell_type": "markdown",
      "metadata": {
        "id": "hX9tzvcQRWi9"
      },
      "source": [
        "# Model definition"
      ]
    },
    {
      "cell_type": "code",
      "execution_count": null,
      "metadata": {
        "colab": {
          "base_uri": "https://localhost:8080/"
        },
        "id": "hua2-mlaCP18",
        "outputId": "8b2e4fa1-66cd-4dd1-b133-945f60a8a2b4"
      },
      "outputs": [
        {
          "name": "stdout",
          "output_type": "stream",
          "text": [
            "Looking in indexes: https://pypi.org/simple, https://us-python.pkg.dev/colab-wheels/public/simple/\n",
            "Collecting keras-unet-collection==0.1.1\n",
            "  Downloading keras_unet_collection-0.1.1-py3-none-any.whl (4.3 kB)\n",
            "Installing collected packages: keras-unet-collection\n",
            "  Attempting uninstall: keras-unet-collection\n",
            "    Found existing installation: keras-unet-collection 0.1.13\n",
            "    Uninstalling keras-unet-collection-0.1.13:\n",
            "      Successfully uninstalled keras-unet-collection-0.1.13\n",
            "Successfully installed keras-unet-collection-0.1.1\n"
          ]
        }
      ],
      "source": [
        "!pip install keras-unet-collection==0.1.1"
      ]
    },
    {
      "cell_type": "code",
      "execution_count": null,
      "metadata": {
        "colab": {
          "base_uri": "https://localhost:8080/"
        },
        "id": "fYyVszhuAULA",
        "outputId": "053900bb-e713-45d3-c791-5bb1d1f4b924"
      },
      "outputs": [
        {
          "name": "stdout",
          "output_type": "stream",
          "text": [
            "Model: \"swin_unet_model\"\n",
            "__________________________________________________________________________________________________\n",
            " Layer (type)                   Output Shape         Param #     Connected to                     \n",
            "==================================================================================================\n",
            " input_17 (InputLayer)          [(None, 128, 128, 3  0           []                               \n",
            "                                )]                                                                \n",
            "                                                                                                  \n",
            " patch_extract_16 (patch_extrac  (None, 1024, 48)    0           ['input_17[0][0]']               \n",
            " t)                                                                                               \n",
            "                                                                                                  \n",
            " patch_embedding_16 (patch_embe  (None, 1024, 128)   137344      ['patch_extract_16[0][0]']       \n",
            " dding)                                                                                           \n",
            "                                                                                                  \n",
            " swin_transformer_block_182 (Sw  (None, 1024, 128)   198724      ['patch_embedding_16[0][0]']     \n",
            " inTransformerBlock)                                                                              \n",
            "                                                                                                  \n",
            " swin_transformer_block_183 (Sw  (None, 1024, 128)   215108      ['swin_transformer_block_182[0][0\n",
            " inTransformerBlock)                                             ]']                              \n",
            "                                                                                                  \n",
            " patch_merging_48 (patch_mergin  (None, 256, 256)    131072      ['swin_transformer_block_183[0][0\n",
            " g)                                                              ]']                              \n",
            "                                                                                                  \n",
            " swin_transformer_block_184 (Sw  (None, 256, 256)    527192      ['patch_merging_48[0][0]']       \n",
            " inTransformerBlock)                                                                              \n",
            "                                                                                                  \n",
            " swin_transformer_block_185 (Sw  (None, 256, 256)    528216      ['swin_transformer_block_184[0][0\n",
            " inTransformerBlock)                                             ]']                              \n",
            "                                                                                                  \n",
            " patch_merging_49 (patch_mergin  (None, 64, 512)     524288      ['swin_transformer_block_185[0][0\n",
            " g)                                                              ]']                              \n",
            "                                                                                                  \n",
            " swin_transformer_block_186 (Sw  (None, 64, 512)     1578072     ['patch_merging_49[0][0]']       \n",
            " inTransformerBlock)                                                                              \n",
            "                                                                                                  \n",
            " swin_transformer_block_187 (Sw  (None, 64, 512)     1578328     ['swin_transformer_block_186[0][0\n",
            " inTransformerBlock)                                             ]']                              \n",
            "                                                                                                  \n",
            " patch_merging_50 (patch_mergin  (None, 16, 1024)    2097152     ['swin_transformer_block_187[0][0\n",
            " g)                                                              ]']                              \n",
            "                                                                                                  \n",
            " swin_transformer_block_188 (Sw  (None, 16, 1024)    5252696     ['patch_merging_50[0][0]']       \n",
            " inTransformerBlock)                                                                              \n",
            "                                                                                                  \n",
            " swin_transformer_block_189 (Sw  (None, 16, 1024)    5252760     ['swin_transformer_block_188[0][0\n",
            " inTransformerBlock)                                             ]']                              \n",
            "                                                                                                  \n",
            " patch_expanding_39 (patch_expa  (None, 64, 512)     2097152     ['swin_transformer_block_189[0][0\n",
            " nding)                                                          ]']                              \n",
            "                                                                                                  \n",
            " swin_unet_concat_0 (Concatenat  (None, 64, 1024)    0           ['patch_expanding_39[0][0]',     \n",
            " e)                                                               'swin_transformer_block_187[0][0\n",
            "                                                                 ]']                              \n",
            "                                                                                                  \n",
            " swin_unet_concat_linear_proj_0  (None, 64, 512)     524288      ['swin_unet_concat_0[0][0]']     \n",
            "  (Dense)                                                                                         \n",
            "                                                                                                  \n",
            " swin_transformer_block_190 (Sw  (None, 64, 512)     1578072     ['swin_unet_concat_linear_proj_0[\n",
            " inTransformerBlock)                                             0][0]']                          \n",
            "                                                                                                  \n",
            " swin_transformer_block_191 (Sw  (None, 64, 512)     1578328     ['swin_transformer_block_190[0][0\n",
            " inTransformerBlock)                                             ]']                              \n",
            "                                                                                                  \n",
            " patch_expanding_40 (patch_expa  (None, 256, 256)    524288      ['swin_transformer_block_191[0][0\n",
            " nding)                                                          ]']                              \n",
            "                                                                                                  \n",
            " swin_unet_concat_1 (Concatenat  (None, 256, 512)    0           ['patch_expanding_40[0][0]',     \n",
            " e)                                                               'swin_transformer_block_185[0][0\n",
            "                                                                 ]']                              \n",
            "                                                                                                  \n",
            " swin_unet_concat_linear_proj_1  (None, 256, 256)    131072      ['swin_unet_concat_1[0][0]']     \n",
            "  (Dense)                                                                                         \n",
            "                                                                                                  \n",
            " swin_transformer_block_192 (Sw  (None, 256, 256)    527192      ['swin_unet_concat_linear_proj_1[\n",
            " inTransformerBlock)                                             0][0]']                          \n",
            "                                                                                                  \n",
            " swin_transformer_block_193 (Sw  (None, 256, 256)    528216      ['swin_transformer_block_192[0][0\n",
            " inTransformerBlock)                                             ]']                              \n",
            "                                                                                                  \n",
            " patch_expanding_41 (patch_expa  (None, 1024, 128)   131072      ['swin_transformer_block_193[0][0\n",
            " nding)                                                          ]']                              \n",
            "                                                                                                  \n",
            " swin_unet_concat_2 (Concatenat  (None, 1024, 256)   0           ['patch_expanding_41[0][0]',     \n",
            " e)                                                               'swin_transformer_block_183[0][0\n",
            "                                                                 ]']                              \n",
            "                                                                                                  \n",
            " swin_unet_concat_linear_proj_2  (None, 1024, 128)   32768       ['swin_unet_concat_2[0][0]']     \n",
            "  (Dense)                                                                                         \n",
            "                                                                                                  \n",
            " swin_transformer_block_194 (Sw  (None, 1024, 128)   198360      ['swin_unet_concat_linear_proj_2[\n",
            " inTransformerBlock)                                             0][0]']                          \n",
            "                                                                                                  \n",
            " swin_transformer_block_195 (Sw  (None, 1024, 128)   202456      ['swin_transformer_block_194[0][0\n",
            " inTransformerBlock)                                             ]']                              \n",
            "                                                                                                  \n",
            " patch_expanding_42 (patch_expa  (None, 128, 128, 32  65536      ['swin_transformer_block_195[0][0\n",
            " nding)                         )                                ]']                              \n",
            "                                                                                                  \n",
            " swin_unet_output (Conv2D)      (None, 128, 128, 13  429         ['patch_expanding_42[0][0]']     \n",
            "                                )                                                                 \n",
            "                                                                                                  \n",
            " swin_unet_output_activation (S  (None, 128, 128, 13  0          ['swin_unet_output[0][0]']       \n",
            " oftmax)                        )                                                                 \n",
            "                                                                                                  \n",
            "==================================================================================================\n",
            "Total params: 26,140,181\n",
            "Trainable params: 26,116,373\n",
            "Non-trainable params: 23,808\n",
            "__________________________________________________________________________________________________\n"
          ]
        }
      ],
      "source": [
        "from keras_unet_collection.models import swin_unet_2d\n",
        "\n",
        "filter_num_begin = 128     # number of channels in the first downsampling block; it is also the number of embedded dimensions\n",
        "depth = 4                  # the depth of SwinUNET; depth=4 means three down/upsampling levels and a bottom level \n",
        "stack_num_down = 2        # number of Swin Transformers per downsampling level\n",
        "stack_num_up = 2           # number of Swin Transformers per upsampling level\n",
        "patch_size = (4, 4)        # Extract 4-by-4 patches from the input image. Height and width of the patch must be equal.\n",
        "num_heads = [4, 8, 8, 8]   # number of attention heads per down/upsampling level\n",
        "window_size = [4, 2, 2, 2] # the size of attention window per down/upsampling level\n",
        "num_mlp = 512              # number of MLP nodes within the Transformer\n",
        "shift_window=True\n",
        "\n",
        "model = swin_unet_2d(\n",
        "  input_size = img_sample.shape,\n",
        "  filter_num_begin = filter_num_begin,\n",
        "  n_labels = len(CLASSES) + 1,\n",
        "  depth=depth,\n",
        "  stack_num_down = stack_num_down,\n",
        "  stack_num_up = stack_num_up,\n",
        "  patch_size = patch_size,\n",
        "  num_heads = num_heads,\n",
        "  window_size = window_size,\n",
        "  num_mlp = num_mlp,\n",
        "  output_activation = 'Softmax',\n",
        ")\n",
        "model.summary()"
      ]
    },
    {
      "cell_type": "code",
      "execution_count": null,
      "metadata": {
        "id": "mv1tP6mgTkMZ"
      },
      "outputs": [],
      "source": [
        "optim = keras.optimizers.Adam(learning_rate=1e-4, clipvalue=0.5)\n",
        "model.compile(\n",
        "    optimizer=optim, \n",
        "    loss=keras.losses.CategoricalCrossentropy(label_smoothing=0.13),\n",
        "     metrics=[\n",
        "        'categorical_accuracy',\n",
        "    ]\n",
        ")"
      ]
    },
    {
      "cell_type": "code",
      "execution_count": null,
      "metadata": {
        "colab": {
          "base_uri": "https://localhost:8080/",
          "height": 792
        },
        "id": "HdbbVUvGFr8c",
        "outputId": "26d4e917-dffd-4aad-899f-a3564fee34bb"
      },
      "outputs": [
        {
          "name": "stdout",
          "output_type": "stream",
          "text": [
            "1/1 [==============================] - 5s 5s/step\n",
            "\tInitial loss = 3.7671878337860107\n",
            "1/1 [==============================] - 0s 96ms/step\n",
            "Validation performance is improved from 3.7671878337860107 to 1.60598623752594\n",
            "1/1 [==============================] - 0s 94ms/step\n",
            "Validation performance is improved from 1.60598623752594 to 1.4319934844970703\n",
            "1/1 [==============================] - 0s 97ms/step\n",
            "Validation performance is improved from 1.4319934844970703 to 1.218626618385315\n",
            "1/1 [==============================] - 0s 105ms/step\n",
            "Validation performance is improved from 1.218626618385315 to 0.8982294797897339\n",
            "1/1 [==============================] - 0s 95ms/step\n",
            "Validation performance is improved from 0.8982294797897339 to 0.7307604551315308\n",
            "1/1 [==============================] - 0s 93ms/step\n",
            "Validation performance is improved from 0.7307604551315308 to 0.619476854801178\n",
            "1/1 [==============================] - 0s 120ms/step\n",
            "Validation performance is improved from 0.619476854801178 to 0.5709571242332458\n",
            "1/1 [==============================] - 0s 92ms/step\n",
            "Validation performance is improved from 0.5709571242332458 to 0.5678951740264893\n",
            "1/1 [==============================] - 0s 91ms/step\n",
            "Validation performance is improved from 0.5678951740264893 to 0.5216304659843445\n",
            "1/1 [==============================] - 0s 135ms/step\n",
            "Validation performance is improved from 0.5216304659843445 to 0.48412004113197327\n",
            "1/1 [==============================] - 0s 92ms/step\n",
            "Validation performance 0.5018866062164307 is NOT improved\n",
            "1/1 [==============================] - 0s 93ms/step\n",
            "Validation performance 0.5287050604820251 is NOT improved\n"
          ]
        },
        {
          "ename": "KeyboardInterrupt",
          "evalue": "ignored",
          "output_type": "error",
          "traceback": [
            "\u001b[0;31m---------------------------------------------------------------------------\u001b[0m",
            "\u001b[0;31mKeyboardInterrupt\u001b[0m                         Traceback (most recent call last)",
            "\u001b[0;32m<ipython-input-123-c945a94b5c6a>\u001b[0m in \u001b[0;36m<cell line: 9>\u001b[0;34m()\u001b[0m\n\u001b[1;32m     25\u001b[0m \u001b[0;34m\u001b[0m\u001b[0m\n\u001b[1;32m     26\u001b[0m         \u001b[0;31m# train on batch\u001b[0m\u001b[0;34m\u001b[0m\u001b[0;34m\u001b[0m\u001b[0m\n\u001b[0;32m---> 27\u001b[0;31m         \u001b[0mloss_\u001b[0m \u001b[0;34m=\u001b[0m \u001b[0mmodel\u001b[0m\u001b[0;34m.\u001b[0m\u001b[0mtrain_on_batch\u001b[0m\u001b[0;34m(\u001b[0m\u001b[0;34m[\u001b[0m\u001b[0mtrain_input\u001b[0m\u001b[0;34m,\u001b[0m\u001b[0;34m]\u001b[0m\u001b[0;34m,\u001b[0m \u001b[0;34m[\u001b[0m\u001b[0mtrain_target\u001b[0m\u001b[0;34m,\u001b[0m\u001b[0;34m]\u001b[0m\u001b[0;34m)\u001b[0m\u001b[0;34m\u001b[0m\u001b[0;34m\u001b[0m\u001b[0m\n\u001b[0m\u001b[1;32m     28\u001b[0m \u001b[0;31m#         if np.isnan(loss_):\u001b[0m\u001b[0;34m\u001b[0m\u001b[0;34m\u001b[0m\u001b[0m\n\u001b[1;32m     29\u001b[0m \u001b[0;31m#             print(\"Training blow-up\")\u001b[0m\u001b[0;34m\u001b[0m\u001b[0;34m\u001b[0m\u001b[0m\n",
            "\u001b[0;32m/usr/local/lib/python3.10/dist-packages/keras/engine/training.py\u001b[0m in \u001b[0;36mtrain_on_batch\u001b[0;34m(self, x, y, sample_weight, class_weight, reset_metrics, return_dict)\u001b[0m\n\u001b[1;32m   2508\u001b[0m             )\n\u001b[1;32m   2509\u001b[0m             \u001b[0mself\u001b[0m\u001b[0;34m.\u001b[0m\u001b[0mtrain_function\u001b[0m \u001b[0;34m=\u001b[0m \u001b[0mself\u001b[0m\u001b[0;34m.\u001b[0m\u001b[0mmake_train_function\u001b[0m\u001b[0;34m(\u001b[0m\u001b[0;34m)\u001b[0m\u001b[0;34m\u001b[0m\u001b[0;34m\u001b[0m\u001b[0m\n\u001b[0;32m-> 2510\u001b[0;31m             \u001b[0mlogs\u001b[0m \u001b[0;34m=\u001b[0m \u001b[0mself\u001b[0m\u001b[0;34m.\u001b[0m\u001b[0mtrain_function\u001b[0m\u001b[0;34m(\u001b[0m\u001b[0miterator\u001b[0m\u001b[0;34m)\u001b[0m\u001b[0;34m\u001b[0m\u001b[0;34m\u001b[0m\u001b[0m\n\u001b[0m\u001b[1;32m   2511\u001b[0m \u001b[0;34m\u001b[0m\u001b[0m\n\u001b[1;32m   2512\u001b[0m         \u001b[0mlogs\u001b[0m \u001b[0;34m=\u001b[0m \u001b[0mtf_utils\u001b[0m\u001b[0;34m.\u001b[0m\u001b[0msync_to_numpy_or_python_type\u001b[0m\u001b[0;34m(\u001b[0m\u001b[0mlogs\u001b[0m\u001b[0;34m)\u001b[0m\u001b[0;34m\u001b[0m\u001b[0;34m\u001b[0m\u001b[0m\n",
            "\u001b[0;32m/usr/local/lib/python3.10/dist-packages/tensorflow/python/util/traceback_utils.py\u001b[0m in \u001b[0;36merror_handler\u001b[0;34m(*args, **kwargs)\u001b[0m\n\u001b[1;32m    148\u001b[0m     \u001b[0mfiltered_tb\u001b[0m \u001b[0;34m=\u001b[0m \u001b[0;32mNone\u001b[0m\u001b[0;34m\u001b[0m\u001b[0;34m\u001b[0m\u001b[0m\n\u001b[1;32m    149\u001b[0m     \u001b[0;32mtry\u001b[0m\u001b[0;34m:\u001b[0m\u001b[0;34m\u001b[0m\u001b[0;34m\u001b[0m\u001b[0m\n\u001b[0;32m--> 150\u001b[0;31m       \u001b[0;32mreturn\u001b[0m \u001b[0mfn\u001b[0m\u001b[0;34m(\u001b[0m\u001b[0;34m*\u001b[0m\u001b[0margs\u001b[0m\u001b[0;34m,\u001b[0m \u001b[0;34m**\u001b[0m\u001b[0mkwargs\u001b[0m\u001b[0;34m)\u001b[0m\u001b[0;34m\u001b[0m\u001b[0;34m\u001b[0m\u001b[0m\n\u001b[0m\u001b[1;32m    151\u001b[0m     \u001b[0;32mexcept\u001b[0m \u001b[0mException\u001b[0m \u001b[0;32mas\u001b[0m \u001b[0me\u001b[0m\u001b[0;34m:\u001b[0m\u001b[0;34m\u001b[0m\u001b[0;34m\u001b[0m\u001b[0m\n\u001b[1;32m    152\u001b[0m       \u001b[0mfiltered_tb\u001b[0m \u001b[0;34m=\u001b[0m \u001b[0m_process_traceback_frames\u001b[0m\u001b[0;34m(\u001b[0m\u001b[0me\u001b[0m\u001b[0;34m.\u001b[0m\u001b[0m__traceback__\u001b[0m\u001b[0;34m)\u001b[0m\u001b[0;34m\u001b[0m\u001b[0;34m\u001b[0m\u001b[0m\n",
            "\u001b[0;32m/usr/local/lib/python3.10/dist-packages/tensorflow/python/eager/polymorphic_function/polymorphic_function.py\u001b[0m in \u001b[0;36m__call__\u001b[0;34m(self, *args, **kwds)\u001b[0m\n\u001b[1;32m    892\u001b[0m \u001b[0;34m\u001b[0m\u001b[0m\n\u001b[1;32m    893\u001b[0m       \u001b[0;32mwith\u001b[0m \u001b[0mOptionalXlaContext\u001b[0m\u001b[0;34m(\u001b[0m\u001b[0mself\u001b[0m\u001b[0;34m.\u001b[0m\u001b[0m_jit_compile\u001b[0m\u001b[0;34m)\u001b[0m\u001b[0;34m:\u001b[0m\u001b[0;34m\u001b[0m\u001b[0;34m\u001b[0m\u001b[0m\n\u001b[0;32m--> 894\u001b[0;31m         \u001b[0mresult\u001b[0m \u001b[0;34m=\u001b[0m \u001b[0mself\u001b[0m\u001b[0;34m.\u001b[0m\u001b[0m_call\u001b[0m\u001b[0;34m(\u001b[0m\u001b[0;34m*\u001b[0m\u001b[0margs\u001b[0m\u001b[0;34m,\u001b[0m \u001b[0;34m**\u001b[0m\u001b[0mkwds\u001b[0m\u001b[0;34m)\u001b[0m\u001b[0;34m\u001b[0m\u001b[0;34m\u001b[0m\u001b[0m\n\u001b[0m\u001b[1;32m    895\u001b[0m \u001b[0;34m\u001b[0m\u001b[0m\n\u001b[1;32m    896\u001b[0m       \u001b[0mnew_tracing_count\u001b[0m \u001b[0;34m=\u001b[0m \u001b[0mself\u001b[0m\u001b[0;34m.\u001b[0m\u001b[0mexperimental_get_tracing_count\u001b[0m\u001b[0;34m(\u001b[0m\u001b[0;34m)\u001b[0m\u001b[0;34m\u001b[0m\u001b[0;34m\u001b[0m\u001b[0m\n",
            "\u001b[0;32m/usr/local/lib/python3.10/dist-packages/tensorflow/python/eager/polymorphic_function/polymorphic_function.py\u001b[0m in \u001b[0;36m_call\u001b[0;34m(self, *args, **kwds)\u001b[0m\n\u001b[1;32m    924\u001b[0m       \u001b[0;31m# In this case we have created variables on the first call, so we run the\u001b[0m\u001b[0;34m\u001b[0m\u001b[0;34m\u001b[0m\u001b[0m\n\u001b[1;32m    925\u001b[0m       \u001b[0;31m# defunned version which is guaranteed to never create variables.\u001b[0m\u001b[0;34m\u001b[0m\u001b[0;34m\u001b[0m\u001b[0m\n\u001b[0;32m--> 926\u001b[0;31m       \u001b[0;32mreturn\u001b[0m \u001b[0mself\u001b[0m\u001b[0;34m.\u001b[0m\u001b[0m_no_variable_creation_fn\u001b[0m\u001b[0;34m(\u001b[0m\u001b[0;34m*\u001b[0m\u001b[0margs\u001b[0m\u001b[0;34m,\u001b[0m \u001b[0;34m**\u001b[0m\u001b[0mkwds\u001b[0m\u001b[0;34m)\u001b[0m  \u001b[0;31m# pylint: disable=not-callable\u001b[0m\u001b[0;34m\u001b[0m\u001b[0;34m\u001b[0m\u001b[0m\n\u001b[0m\u001b[1;32m    927\u001b[0m     \u001b[0;32melif\u001b[0m \u001b[0mself\u001b[0m\u001b[0;34m.\u001b[0m\u001b[0m_variable_creation_fn\u001b[0m \u001b[0;32mis\u001b[0m \u001b[0;32mnot\u001b[0m \u001b[0;32mNone\u001b[0m\u001b[0;34m:\u001b[0m\u001b[0;34m\u001b[0m\u001b[0;34m\u001b[0m\u001b[0m\n\u001b[1;32m    928\u001b[0m       \u001b[0;31m# Release the lock early so that multiple threads can perform the call\u001b[0m\u001b[0;34m\u001b[0m\u001b[0;34m\u001b[0m\u001b[0m\n",
            "\u001b[0;32m/usr/local/lib/python3.10/dist-packages/tensorflow/python/eager/polymorphic_function/tracing_compiler.py\u001b[0m in \u001b[0;36m__call__\u001b[0;34m(self, *args, **kwargs)\u001b[0m\n\u001b[1;32m    141\u001b[0m       (concrete_function,\n\u001b[1;32m    142\u001b[0m        filtered_flat_args) = self._maybe_define_function(args, kwargs)\n\u001b[0;32m--> 143\u001b[0;31m     return concrete_function._call_flat(\n\u001b[0m\u001b[1;32m    144\u001b[0m         filtered_flat_args, captured_inputs=concrete_function.captured_inputs)  # pylint: disable=protected-access\n\u001b[1;32m    145\u001b[0m \u001b[0;34m\u001b[0m\u001b[0m\n",
            "\u001b[0;32m/usr/local/lib/python3.10/dist-packages/tensorflow/python/eager/polymorphic_function/monomorphic_function.py\u001b[0m in \u001b[0;36m_call_flat\u001b[0;34m(self, args, captured_inputs, cancellation_manager)\u001b[0m\n\u001b[1;32m   1755\u001b[0m         and executing_eagerly):\n\u001b[1;32m   1756\u001b[0m       \u001b[0;31m# No tape is watching; skip to running the function.\u001b[0m\u001b[0;34m\u001b[0m\u001b[0;34m\u001b[0m\u001b[0m\n\u001b[0;32m-> 1757\u001b[0;31m       return self._build_call_outputs(self._inference_function.call(\n\u001b[0m\u001b[1;32m   1758\u001b[0m           ctx, args, cancellation_manager=cancellation_manager))\n\u001b[1;32m   1759\u001b[0m     forward_backward = self._select_forward_and_backward_functions(\n",
            "\u001b[0;32m/usr/local/lib/python3.10/dist-packages/tensorflow/python/eager/polymorphic_function/monomorphic_function.py\u001b[0m in \u001b[0;36mcall\u001b[0;34m(self, ctx, args, cancellation_manager)\u001b[0m\n\u001b[1;32m    379\u001b[0m       \u001b[0;32mwith\u001b[0m \u001b[0m_InterpolateFunctionError\u001b[0m\u001b[0;34m(\u001b[0m\u001b[0mself\u001b[0m\u001b[0;34m)\u001b[0m\u001b[0;34m:\u001b[0m\u001b[0;34m\u001b[0m\u001b[0;34m\u001b[0m\u001b[0m\n\u001b[1;32m    380\u001b[0m         \u001b[0;32mif\u001b[0m \u001b[0mcancellation_manager\u001b[0m \u001b[0;32mis\u001b[0m \u001b[0;32mNone\u001b[0m\u001b[0;34m:\u001b[0m\u001b[0;34m\u001b[0m\u001b[0;34m\u001b[0m\u001b[0m\n\u001b[0;32m--> 381\u001b[0;31m           outputs = execute.execute(\n\u001b[0m\u001b[1;32m    382\u001b[0m               \u001b[0mstr\u001b[0m\u001b[0;34m(\u001b[0m\u001b[0mself\u001b[0m\u001b[0;34m.\u001b[0m\u001b[0msignature\u001b[0m\u001b[0;34m.\u001b[0m\u001b[0mname\u001b[0m\u001b[0;34m)\u001b[0m\u001b[0;34m,\u001b[0m\u001b[0;34m\u001b[0m\u001b[0;34m\u001b[0m\u001b[0m\n\u001b[1;32m    383\u001b[0m               \u001b[0mnum_outputs\u001b[0m\u001b[0;34m=\u001b[0m\u001b[0mself\u001b[0m\u001b[0;34m.\u001b[0m\u001b[0m_num_outputs\u001b[0m\u001b[0;34m,\u001b[0m\u001b[0;34m\u001b[0m\u001b[0;34m\u001b[0m\u001b[0m\n",
            "\u001b[0;32m/usr/local/lib/python3.10/dist-packages/tensorflow/python/eager/execute.py\u001b[0m in \u001b[0;36mquick_execute\u001b[0;34m(op_name, num_outputs, inputs, attrs, ctx, name)\u001b[0m\n\u001b[1;32m     50\u001b[0m   \u001b[0;32mtry\u001b[0m\u001b[0;34m:\u001b[0m\u001b[0;34m\u001b[0m\u001b[0;34m\u001b[0m\u001b[0m\n\u001b[1;32m     51\u001b[0m     \u001b[0mctx\u001b[0m\u001b[0;34m.\u001b[0m\u001b[0mensure_initialized\u001b[0m\u001b[0;34m(\u001b[0m\u001b[0;34m)\u001b[0m\u001b[0;34m\u001b[0m\u001b[0;34m\u001b[0m\u001b[0m\n\u001b[0;32m---> 52\u001b[0;31m     tensors = pywrap_tfe.TFE_Py_Execute(ctx._handle, device_name, op_name,\n\u001b[0m\u001b[1;32m     53\u001b[0m                                         inputs, attrs, num_outputs)\n\u001b[1;32m     54\u001b[0m   \u001b[0;32mexcept\u001b[0m \u001b[0mcore\u001b[0m\u001b[0;34m.\u001b[0m\u001b[0m_NotOkStatusException\u001b[0m \u001b[0;32mas\u001b[0m \u001b[0me\u001b[0m\u001b[0;34m:\u001b[0m\u001b[0;34m\u001b[0m\u001b[0;34m\u001b[0m\u001b[0m\n",
            "\u001b[0;31mKeyboardInterrupt\u001b[0m: "
          ]
        }
      ],
      "source": [
        "N_epoch = 20 # number of epoches\n",
        "N_batch = 800 # number of batches per epoch\n",
        "\n",
        "tol = 0 # current early stopping patience/toralance\n",
        "max_tol = 3 # the max-allowed early stopping patience/toralance\n",
        "min_del = 0 # the lowest acceptable loss value reduction \n",
        "\n",
        "for epoch in range(N_epoch):\n",
        "    train_seq.on_epoch_end()\n",
        "    # initial loss record\n",
        "    if epoch == 0:\n",
        "        valid_input, valid_target = val_seq[0]\n",
        "        y_pred = model.predict([valid_input,])\n",
        "        record = np.mean(keras.losses.categorical_crossentropy(valid_target, y_pred))\n",
        "        print('\\tInitial loss = {}'.format(record))\n",
        "    \n",
        "    # loop over batches\n",
        "    for step in range(N_batch):\n",
        "        # selecting smaples for the current batch\n",
        "        \n",
        "        # batch data formation\n",
        "        ## augmentation is not applied\n",
        "        train_input, train_target = train_seq[step]\n",
        "        \n",
        "        # train on batch\n",
        "        loss_ = model.train_on_batch(train_input, train_target)\n",
        "#         if np.isnan(loss_):\n",
        "#             print(\"Training blow-up\")\n",
        "\n",
        "        # ** training loss is not stored ** #\n",
        "        \n",
        "    # epoch-end validation\n",
        "    y_pred = model.predict(valid_input)\n",
        "    record_temp = np.mean(keras.losses.categorical_crossentropy(valid_target, y_pred))\n",
        "    # ** validation loss is not stored ** #\n",
        "    \n",
        "    # if loss is reduced\n",
        "    if record - record_temp > min_del:\n",
        "        print('Validation performance is improved from {} to {}'.format(record, record_temp))\n",
        "        model.save(f'/content/drive/MyDrive/dimploma/swinunet_test/swinunet_val_{record_temp}.h5')\n",
        "        record = record_temp; # update the loss record\n",
        "        tol = 0; # refresh early stopping patience\n",
        "        # ** model checkpoint is not stored ** #\n",
        "\n",
        "    # if loss not reduced\n",
        "    else:\n",
        "        print('Validation performance {} is NOT improved'.format(record_temp))\n",
        "        tol += 1\n",
        "        if tol >= max_tol:\n",
        "            print('Early stopping')\n",
        "            break;\n",
        "        else:\n",
        "            # Pass to the next epoch\n",
        "            continue;"
      ]
    },
    {
      "attachments": {},
      "cell_type": "markdown",
      "metadata": {
        "id": "JNbEO_vQyQco"
      },
      "source": [
        "# Results"
      ]
    },
    {
      "cell_type": "code",
      "execution_count": null,
      "metadata": {
        "colab": {
          "base_uri": "https://localhost:8080/"
        },
        "id": "OSRfvXtBho9V",
        "outputId": "a26b5dea-162b-4c0c-845b-a347145c1a56"
      },
      "outputs": [
        {
          "name": "stdout",
          "output_type": "stream",
          "text": [
            "1/1 [==============================] - 5s 5s/step\n",
            "1/1 [==============================] - 0s 126ms/step\n",
            "1/1 [==============================] - 0s 130ms/step\n",
            "1/1 [==============================] - 0s 127ms/step\n",
            "1/1 [==============================] - 0s 125ms/step\n",
            "1/1 [==============================] - 0s 125ms/step\n",
            "1/1 [==============================] - 0s 131ms/step\n",
            "1/1 [==============================] - 0s 130ms/step\n",
            "1/1 [==============================] - 0s 121ms/step\n",
            "1/1 [==============================] - 0s 132ms/step\n",
            "1/1 [==============================] - 0s 130ms/step\n",
            "1/1 [==============================] - 0s 123ms/step\n",
            "1/1 [==============================] - 0s 118ms/step\n",
            "1/1 [==============================] - 0s 123ms/step\n",
            "1/1 [==============================] - 0s 128ms/step\n",
            "1/1 [==============================] - 0s 119ms/step\n",
            "1/1 [==============================] - 0s 124ms/step\n",
            "1/1 [==============================] - 0s 128ms/step\n",
            "1/1 [==============================] - 0s 125ms/step\n",
            "1/1 [==============================] - 0s 125ms/step\n",
            "1/1 [==============================] - 0s 124ms/step\n",
            "1/1 [==============================] - 0s 130ms/step\n",
            "1/1 [==============================] - 0s 125ms/step\n",
            "1/1 [==============================] - 0s 124ms/step\n",
            "1/1 [==============================] - 0s 136ms/step\n",
            "1/1 [==============================] - 0s 150ms/step\n",
            "1/1 [==============================] - 0s 159ms/step\n",
            "1/1 [==============================] - 0s 149ms/step\n",
            "1/1 [==============================] - 0s 166ms/step\n",
            "1/1 [==============================] - 0s 155ms/step\n",
            "1/1 [==============================] - 0s 174ms/step\n",
            "1/1 [==============================] - 0s 146ms/step\n",
            "1/1 [==============================] - 0s 192ms/step\n",
            "1/1 [==============================] - 0s 160ms/step\n",
            "1/1 [==============================] - 0s 124ms/step\n",
            "1/1 [==============================] - 0s 123ms/step\n",
            "1/1 [==============================] - 0s 130ms/step\n",
            "1/1 [==============================] - 0s 124ms/step\n",
            "1/1 [==============================] - 0s 123ms/step\n",
            "1/1 [==============================] - 0s 122ms/step\n",
            "1/1 [==============================] - 0s 127ms/step\n",
            "1/1 [==============================] - 0s 119ms/step\n",
            "1/1 [==============================] - 0s 128ms/step\n",
            "1/1 [==============================] - 0s 123ms/step\n",
            "1/1 [==============================] - 0s 123ms/step\n",
            "1/1 [==============================] - 0s 125ms/step\n",
            "1/1 [==============================] - 0s 124ms/step\n",
            "1/1 [==============================] - 0s 127ms/step\n",
            "1/1 [==============================] - 0s 125ms/step\n",
            "1/1 [==============================] - 0s 121ms/step\n",
            "1/1 [==============================] - 0s 126ms/step\n",
            "1/1 [==============================] - 0s 130ms/step\n",
            "1/1 [==============================] - 0s 124ms/step\n",
            "1/1 [==============================] - 0s 130ms/step\n",
            "1/1 [==============================] - 0s 129ms/step\n",
            "1/1 [==============================] - 0s 128ms/step\n",
            "1/1 [==============================] - 0s 125ms/step\n",
            "1/1 [==============================] - 0s 132ms/step\n",
            "1/1 [==============================] - 0s 136ms/step\n",
            "1/1 [==============================] - 0s 122ms/step\n",
            "1/1 [==============================] - 0s 125ms/step\n",
            "1/1 [==============================] - 0s 159ms/step\n",
            "1/1 [==============================] - 0s 180ms/step\n",
            "1/1 [==============================] - 0s 156ms/step\n",
            "1/1 [==============================] - 0s 154ms/step\n",
            "1/1 [==============================] - 0s 152ms/step\n",
            "1/1 [==============================] - 0s 149ms/step\n",
            "1/1 [==============================] - 0s 170ms/step\n",
            "1/1 [==============================] - 0s 157ms/step\n",
            "1/1 [==============================] - 0s 131ms/step\n",
            "1/1 [==============================] - 0s 119ms/step\n",
            "1/1 [==============================] - 0s 127ms/step\n",
            "1/1 [==============================] - 0s 124ms/step\n",
            "1/1 [==============================] - 0s 130ms/step\n",
            "1/1 [==============================] - 0s 132ms/step\n",
            "1/1 [==============================] - 0s 126ms/step\n",
            "1/1 [==============================] - 0s 130ms/step\n",
            "1/1 [==============================] - 0s 128ms/step\n",
            "1/1 [==============================] - 0s 126ms/step\n",
            "1/1 [==============================] - 0s 125ms/step\n",
            "1/1 [==============================] - 0s 126ms/step\n",
            "1/1 [==============================] - 0s 132ms/step\n",
            "1/1 [==============================] - 0s 128ms/step\n",
            "1/1 [==============================] - 0s 128ms/step\n",
            "1/1 [==============================] - 0s 126ms/step\n",
            "1/1 [==============================] - 0s 138ms/step\n",
            "1/1 [==============================] - 0s 122ms/step\n",
            "1/1 [==============================] - 0s 126ms/step\n",
            "1/1 [==============================] - 0s 123ms/step\n",
            "1/1 [==============================] - 0s 126ms/step\n",
            "1/1 [==============================] - 0s 122ms/step\n"
          ]
        }
      ],
      "source": [
        "from sklearn.metrics import classification_report\n",
        "\n",
        "model.load_weights(\"/content/drive/MyDrive/dimploma/swinunet_test/swinunet_val_0.48412004113197327.h5\")\n",
        "\n",
        "preds = np.array([])\n",
        "test_labels = np.array([])\n",
        "for i in range(len(val_seq) // 4):\n",
        "    x_test, y_test = val_seq[i]\n",
        "    prediction = np.argmax(model.predict(x_test[..., :10]), axis=-1).flatten()\n",
        "    preds = np.append(preds, prediction)\n",
        "    label =  np.argmax(y_test[..., :10], axis=-1).flatten()\n",
        "    test_labels = np.append(test_labels, label)"
      ]
    },
    {
      "cell_type": "code",
      "execution_count": null,
      "metadata": {
        "colab": {
          "base_uri": "https://localhost:8080/"
        },
        "id": "XBYjIYYBXKvr",
        "outputId": "c30b4bc2-55de-4e84-938c-70a87dc7c7cd"
      },
      "outputs": [
        {
          "name": "stdout",
          "output_type": "stream",
          "text": [
            "              precision    recall  f1-score   support\n",
            "\n",
            "     Nothing       0.94      0.96      0.95  11701033\n",
            "       Wheat       0.90      0.92      0.91   2509637\n",
            "         Rye       0.91      0.90      0.90   2014446\n",
            "      Barley       0.92      0.89      0.90   1306197\n",
            "        Oats       0.94      0.85      0.89    173872\n",
            "        Corn       0.92      0.88      0.90   2134317\n",
            "   Oil Seeds       0.92      0.91      0.91   2039977\n",
            "  Root Crops       0.93      0.80      0.86     34805\n",
            "     Meadows       0.88      0.81      0.85   1066996\n",
            "Forage Crops       0.92      0.85      0.88    873824\n",
            "\n",
            "    accuracy                           0.92  23855104\n",
            "   macro avg       0.92      0.88      0.90  23855104\n",
            "weighted avg       0.92      0.92      0.92  23855104\n",
            "\n"
          ]
        }
      ],
      "source": [
        "print(classification_report(test_labels, preds, target_names = ['Nothing']+CLASSES[:9]))"
      ]
    }
  ],
  "metadata": {
    "accelerator": "GPU",
    "colab": {
      "gpuType": "T4",
      "provenance": []
    },
    "gpuClass": "standard",
    "kernelspec": {
      "display_name": "Python 3",
      "name": "python3"
    },
    "language_info": {
      "name": "python"
    }
  },
  "nbformat": 4,
  "nbformat_minor": 0
}
